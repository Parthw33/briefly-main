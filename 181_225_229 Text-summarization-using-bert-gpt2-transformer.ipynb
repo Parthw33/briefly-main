{
 "cells": [
  {
   "cell_type": "code",
   "execution_count": 1,
   "metadata": {
    "collapsed": true
   },
   "outputs": [
    {
     "name": "stdout",
     "output_type": "stream",
     "text": [
      "Collecting bert-extractive-summarizer\r\n",
      "  Downloading bert-extractive-summarizer-0.4.0.tar.gz (9.9 kB)\r\n",
      "Requirement already satisfied: transformers in /opt/conda/lib/python3.6/site-packages (from bert-extractive-summarizer) (2.5.1)\r\n",
      "Requirement already satisfied: scikit-learn in /opt/conda/lib/python3.6/site-packages (from bert-extractive-summarizer) (0.22.2.post1)\r\n",
      "Requirement already satisfied: spacy in /opt/conda/lib/python3.6/site-packages (from bert-extractive-summarizer) (2.2.3)\r\n",
      "Requirement already satisfied: boto3 in /opt/conda/lib/python3.6/site-packages (from transformers->bert-extractive-summarizer) (1.12.13)\r\n",
      "Requirement already satisfied: filelock in /opt/conda/lib/python3.6/site-packages (from transformers->bert-extractive-summarizer) (3.0.12)\r\n",
      "Requirement already satisfied: tokenizers==0.5.2 in /opt/conda/lib/python3.6/site-packages (from transformers->bert-extractive-summarizer) (0.5.2)\r\n",
      "Requirement already satisfied: sentencepiece in /opt/conda/lib/python3.6/site-packages (from transformers->bert-extractive-summarizer) (0.1.85)\r\n",
      "Requirement already satisfied: tqdm>=4.27 in /opt/conda/lib/python3.6/site-packages (from transformers->bert-extractive-summarizer) (4.42.0)\r\n",
      "Requirement already satisfied: regex!=2019.12.17 in /opt/conda/lib/python3.6/site-packages (from transformers->bert-extractive-summarizer) (2020.2.20)\r\n",
      "Requirement already satisfied: numpy in /opt/conda/lib/python3.6/site-packages (from transformers->bert-extractive-summarizer) (1.18.1)\r\n",
      "Requirement already satisfied: sacremoses in /opt/conda/lib/python3.6/site-packages (from transformers->bert-extractive-summarizer) (0.0.38)\r\n",
      "Requirement already satisfied: requests in /opt/conda/lib/python3.6/site-packages (from transformers->bert-extractive-summarizer) (2.22.0)\r\n",
      "Requirement already satisfied: joblib>=0.11 in /opt/conda/lib/python3.6/site-packages (from scikit-learn->bert-extractive-summarizer) (0.14.1)\r\n",
      "Requirement already satisfied: scipy>=0.17.0 in /opt/conda/lib/python3.6/site-packages (from scikit-learn->bert-extractive-summarizer) (1.4.1)\r\n",
      "Requirement already satisfied: cymem<2.1.0,>=2.0.2 in /opt/conda/lib/python3.6/site-packages (from spacy->bert-extractive-summarizer) (2.0.3)\r\n",
      "Requirement already satisfied: preshed<3.1.0,>=3.0.2 in /opt/conda/lib/python3.6/site-packages (from spacy->bert-extractive-summarizer) (3.0.2)\r\n",
      "Requirement already satisfied: wasabi<1.1.0,>=0.4.0 in /opt/conda/lib/python3.6/site-packages (from spacy->bert-extractive-summarizer) (0.6.0)\r\n",
      "Requirement already satisfied: setuptools in /opt/conda/lib/python3.6/site-packages (from spacy->bert-extractive-summarizer) (45.2.0.post20200210)\r\n",
      "Requirement already satisfied: thinc<7.4.0,>=7.3.0 in /opt/conda/lib/python3.6/site-packages (from spacy->bert-extractive-summarizer) (7.3.1)\r\n",
      "Requirement already satisfied: murmurhash<1.1.0,>=0.28.0 in /opt/conda/lib/python3.6/site-packages (from spacy->bert-extractive-summarizer) (1.0.2)\r\n",
      "Requirement already satisfied: srsly<1.1.0,>=0.1.0 in /opt/conda/lib/python3.6/site-packages (from spacy->bert-extractive-summarizer) (1.0.2)\r\n",
      "Requirement already satisfied: catalogue<1.1.0,>=0.0.7 in /opt/conda/lib/python3.6/site-packages (from spacy->bert-extractive-summarizer) (1.0.0)\r\n",
      "Requirement already satisfied: blis<0.5.0,>=0.4.0 in /opt/conda/lib/python3.6/site-packages (from spacy->bert-extractive-summarizer) (0.4.1)\r\n",
      "Requirement already satisfied: plac<1.2.0,>=0.9.6 in /opt/conda/lib/python3.6/site-packages (from spacy->bert-extractive-summarizer) (0.9.6)\r\n",
      "Requirement already satisfied: s3transfer<0.4.0,>=0.3.0 in /opt/conda/lib/python3.6/site-packages (from boto3->transformers->bert-extractive-summarizer) (0.3.3)\r\n",
      "Requirement already satisfied: jmespath<1.0.0,>=0.7.1 in /opt/conda/lib/python3.6/site-packages (from boto3->transformers->bert-extractive-summarizer) (0.9.5)\r\n",
      "Requirement already satisfied: botocore<1.16.0,>=1.15.13 in /opt/conda/lib/python3.6/site-packages (from boto3->transformers->bert-extractive-summarizer) (1.15.13)\r\n",
      "Requirement already satisfied: click in /opt/conda/lib/python3.6/site-packages (from sacremoses->transformers->bert-extractive-summarizer) (7.0)\r\n",
      "Requirement already satisfied: six in /opt/conda/lib/python3.6/site-packages (from sacremoses->transformers->bert-extractive-summarizer) (1.14.0)\r\n",
      "Requirement already satisfied: urllib3!=1.25.0,!=1.25.1,<1.26,>=1.21.1 in /opt/conda/lib/python3.6/site-packages (from requests->transformers->bert-extractive-summarizer) (1.24.3)\r\n",
      "Requirement already satisfied: chardet<3.1.0,>=3.0.2 in /opt/conda/lib/python3.6/site-packages (from requests->transformers->bert-extractive-summarizer) (3.0.4)\r\n",
      "Requirement already satisfied: idna<2.9,>=2.5 in /opt/conda/lib/python3.6/site-packages (from requests->transformers->bert-extractive-summarizer) (2.8)\r\n",
      "Requirement already satisfied: certifi>=2017.4.17 in /opt/conda/lib/python3.6/site-packages (from requests->transformers->bert-extractive-summarizer) (2019.11.28)\r\n",
      "Requirement already satisfied: importlib-metadata>=0.20; python_version < \"3.8\" in /opt/conda/lib/python3.6/site-packages (from catalogue<1.1.0,>=0.0.7->spacy->bert-extractive-summarizer) (1.5.0)\r\n",
      "Requirement already satisfied: docutils<0.16,>=0.10 in /opt/conda/lib/python3.6/site-packages (from botocore<1.16.0,>=1.15.13->boto3->transformers->bert-extractive-summarizer) (0.15.2)\r\n",
      "Requirement already satisfied: python-dateutil<3.0.0,>=2.1 in /opt/conda/lib/python3.6/site-packages (from botocore<1.16.0,>=1.15.13->boto3->transformers->bert-extractive-summarizer) (2.8.0)\r\n",
      "Requirement already satisfied: zipp>=0.5 in /opt/conda/lib/python3.6/site-packages (from importlib-metadata>=0.20; python_version < \"3.8\"->catalogue<1.1.0,>=0.0.7->spacy->bert-extractive-summarizer) (2.2.0)\r\n",
      "Building wheels for collected packages: bert-extractive-summarizer\r\n",
      "  Building wheel for bert-extractive-summarizer (setup.py) ... \u001b[?25l-\b \b\\\b \bdone\r\n",
      "\u001b[?25h  Created wheel for bert-extractive-summarizer: filename=bert_extractive_summarizer-0.4.0-py3-none-any.whl size=12807 sha256=1b755bde237981b0a11856fecc19113008c4ad76136f644ea4a879c1e26a113d\r\n",
      "  Stored in directory: /root/.cache/pip/wheels/a4/12/eb/7eb0e29d9c0b9e876b97f76b8c465eebd1ffaf7126f2fceb20\r\n",
      "Successfully built bert-extractive-summarizer\r\n",
      "Installing collected packages: bert-extractive-summarizer\r\n",
      "Successfully installed bert-extractive-summarizer-0.4.0\r\n"
     ]
    }
   ],
   "source": [
    "!pip install bert-extractive-summarizer\n"
   ]
  },
  {
   "cell_type": "code",
   "execution_count": 2,
   "metadata": {
    "_cell_guid": "b1076dfc-b9ad-4769-8c92-a6c4dae69d19",
    "_uuid": "8f2839f25d086af736a60e9eeb907d3b93b6e0e5",
    "collapsed": true
   },
   "outputs": [
    {
     "name": "stdout",
     "output_type": "stream",
     "text": [
      "Collecting transformers==2.2.0\r\n",
      "  Downloading transformers-2.2.0-py3-none-any.whl (360 kB)\r\n",
      "\u001b[K     |████████████████████████████████| 360 kB 2.8 MB/s \r\n",
      "\u001b[?25hRequirement already satisfied: tqdm in /opt/conda/lib/python3.6/site-packages (from transformers==2.2.0) (4.42.0)\r\n",
      "Requirement already satisfied: sentencepiece in /opt/conda/lib/python3.6/site-packages (from transformers==2.2.0) (0.1.85)\r\n",
      "Requirement already satisfied: boto3 in /opt/conda/lib/python3.6/site-packages (from transformers==2.2.0) (1.12.13)\r\n",
      "Requirement already satisfied: regex in /opt/conda/lib/python3.6/site-packages (from transformers==2.2.0) (2020.2.20)\r\n",
      "Requirement already satisfied: numpy in /opt/conda/lib/python3.6/site-packages (from transformers==2.2.0) (1.18.1)\r\n",
      "Requirement already satisfied: requests in /opt/conda/lib/python3.6/site-packages (from transformers==2.2.0) (2.22.0)\r\n",
      "Requirement already satisfied: sacremoses in /opt/conda/lib/python3.6/site-packages (from transformers==2.2.0) (0.0.38)\r\n",
      "Requirement already satisfied: jmespath<1.0.0,>=0.7.1 in /opt/conda/lib/python3.6/site-packages (from boto3->transformers==2.2.0) (0.9.5)\r\n",
      "Requirement already satisfied: botocore<1.16.0,>=1.15.13 in /opt/conda/lib/python3.6/site-packages (from boto3->transformers==2.2.0) (1.15.13)\r\n",
      "Requirement already satisfied: s3transfer<0.4.0,>=0.3.0 in /opt/conda/lib/python3.6/site-packages (from boto3->transformers==2.2.0) (0.3.3)\r\n",
      "Requirement already satisfied: urllib3!=1.25.0,!=1.25.1,<1.26,>=1.21.1 in /opt/conda/lib/python3.6/site-packages (from requests->transformers==2.2.0) (1.24.3)\r\n",
      "Requirement already satisfied: idna<2.9,>=2.5 in /opt/conda/lib/python3.6/site-packages (from requests->transformers==2.2.0) (2.8)\r\n",
      "Requirement already satisfied: chardet<3.1.0,>=3.0.2 in /opt/conda/lib/python3.6/site-packages (from requests->transformers==2.2.0) (3.0.4)\r\n",
      "Requirement already satisfied: certifi>=2017.4.17 in /opt/conda/lib/python3.6/site-packages (from requests->transformers==2.2.0) (2019.11.28)\r\n",
      "Requirement already satisfied: click in /opt/conda/lib/python3.6/site-packages (from sacremoses->transformers==2.2.0) (7.0)\r\n",
      "Requirement already satisfied: joblib in /opt/conda/lib/python3.6/site-packages (from sacremoses->transformers==2.2.0) (0.14.1)\r\n",
      "Requirement already satisfied: six in /opt/conda/lib/python3.6/site-packages (from sacremoses->transformers==2.2.0) (1.14.0)\r\n",
      "Requirement already satisfied: docutils<0.16,>=0.10 in /opt/conda/lib/python3.6/site-packages (from botocore<1.16.0,>=1.15.13->boto3->transformers==2.2.0) (0.15.2)\r\n",
      "Requirement already satisfied: python-dateutil<3.0.0,>=2.1 in /opt/conda/lib/python3.6/site-packages (from botocore<1.16.0,>=1.15.13->boto3->transformers==2.2.0) (2.8.0)\r\n",
      "Installing collected packages: transformers\r\n",
      "  Attempting uninstall: transformers\r\n",
      "    Found existing installation: transformers 2.5.1\r\n",
      "    Uninstalling transformers-2.5.1:\r\n",
      "      Successfully uninstalled transformers-2.5.1\r\n",
      "Successfully installed transformers-2.2.0\r\n"
     ]
    }
   ],
   "source": [
    "!pip install transformers==2.2.0\n",
    "\n"
   ]
  },
  {
   "cell_type": "code",
   "execution_count": 3,
   "metadata": {
    "collapsed": true
   },
   "outputs": [
    {
     "name": "stdout",
     "output_type": "stream",
     "text": [
      "Collecting spacy==2.0.12\r\n",
      "  Downloading spacy-2.0.12.tar.gz (22.0 MB)\r\n",
      "\u001b[K     |████████████████████████████████| 22.0 MB 243 kB/s \r\n",
      "\u001b[?25hRequirement already satisfied: numpy>=1.7 in /opt/conda/lib/python3.6/site-packages (from spacy==2.0.12) (1.18.1)\r\n",
      "Collecting murmurhash<0.29,>=0.28\r\n",
      "  Downloading murmurhash-0.28.0-cp36-cp36m-manylinux1_x86_64.whl (12 kB)\r\n",
      "Collecting cymem<1.32,>=1.30\r\n",
      "  Downloading cymem-1.31.2-cp36-cp36m-manylinux1_x86_64.whl (21 kB)\r\n",
      "Collecting preshed<2.0.0,>=1.0.0\r\n",
      "  Downloading preshed-1.0.1-cp36-cp36m-manylinux1_x86_64.whl (80 kB)\r\n",
      "\u001b[K     |████████████████████████████████| 80 kB 7.1 MB/s \r\n",
      "\u001b[?25hCollecting thinc<6.11.0,>=6.10.3\r\n",
      "  Downloading thinc-6.10.3.tar.gz (1.2 MB)\r\n",
      "\u001b[K     |████████████████████████████████| 1.2 MB 37.8 MB/s \r\n",
      "\u001b[?25hRequirement already satisfied: plac<1.0.0,>=0.9.6 in /opt/conda/lib/python3.6/site-packages (from spacy==2.0.12) (0.9.6)\r\n",
      "Collecting ujson>=1.35\r\n",
      "  Downloading ujson-2.0.2-cp36-cp36m-manylinux1_x86_64.whl (175 kB)\r\n",
      "\u001b[K     |████████████████████████████████| 175 kB 41.8 MB/s \r\n",
      "\u001b[?25hCollecting dill<0.3,>=0.2\r\n",
      "  Downloading dill-0.2.9.tar.gz (150 kB)\r\n",
      "\u001b[K     |████████████████████████████████| 150 kB 39.4 MB/s \r\n",
      "\u001b[?25hCollecting regex==2017.4.5\r\n",
      "  Downloading regex-2017.04.05.tar.gz (601 kB)\r\n",
      "\u001b[K     |████████████████████████████████| 601 kB 49.7 MB/s \r\n",
      "\u001b[?25hRequirement already satisfied: requests<3.0.0,>=2.13.0 in /opt/conda/lib/python3.6/site-packages (from spacy==2.0.12) (2.22.0)\r\n",
      "Requirement already satisfied: msgpack<1.0.0,>=0.5.6 in /opt/conda/lib/python3.6/site-packages (from thinc<6.11.0,>=6.10.3->spacy==2.0.12) (0.6.1)\r\n",
      "Requirement already satisfied: msgpack-numpy<1.0.0,>=0.4.1 in /opt/conda/lib/python3.6/site-packages (from thinc<6.11.0,>=6.10.3->spacy==2.0.12) (0.4.4.3)\r\n",
      "Collecting cytoolz<0.10,>=0.9.0\r\n",
      "  Downloading cytoolz-0.9.0.1.tar.gz (443 kB)\r\n",
      "\u001b[K     |████████████████████████████████| 443 kB 42.4 MB/s \r\n",
      "\u001b[?25hCollecting wrapt<1.11.0,>=1.10.0\r\n",
      "  Downloading wrapt-1.10.11.tar.gz (27 kB)\r\n",
      "Requirement already satisfied: tqdm<5.0.0,>=4.10.0 in /opt/conda/lib/python3.6/site-packages (from thinc<6.11.0,>=6.10.3->spacy==2.0.12) (4.42.0)\r\n",
      "Requirement already satisfied: six<2.0.0,>=1.10.0 in /opt/conda/lib/python3.6/site-packages (from thinc<6.11.0,>=6.10.3->spacy==2.0.12) (1.14.0)\r\n",
      "Requirement already satisfied: urllib3!=1.25.0,!=1.25.1,<1.26,>=1.21.1 in /opt/conda/lib/python3.6/site-packages (from requests<3.0.0,>=2.13.0->spacy==2.0.12) (1.24.3)\r\n",
      "Requirement already satisfied: chardet<3.1.0,>=3.0.2 in /opt/conda/lib/python3.6/site-packages (from requests<3.0.0,>=2.13.0->spacy==2.0.12) (3.0.4)\r\n",
      "Requirement already satisfied: idna<2.9,>=2.5 in /opt/conda/lib/python3.6/site-packages (from requests<3.0.0,>=2.13.0->spacy==2.0.12) (2.8)\r\n",
      "Requirement already satisfied: certifi>=2017.4.17 in /opt/conda/lib/python3.6/site-packages (from requests<3.0.0,>=2.13.0->spacy==2.0.12) (2019.11.28)\r\n",
      "Requirement already satisfied: toolz>=0.8.0 in /opt/conda/lib/python3.6/site-packages (from cytoolz<0.10,>=0.9.0->thinc<6.11.0,>=6.10.3->spacy==2.0.12) (0.10.0)\r\n",
      "Building wheels for collected packages: spacy, thinc, dill, regex, cytoolz, wrapt\r\n",
      "  Building wheel for spacy (setup.py) ... \u001b[?25l-\b \b\\\b \b|\b \b/\b \b-\b \b\\\b \b|\b \b/\b \b-\b \b\\\b \b|\b \b/\b \b-\b \b\\\b \b|\b \b/\b \b-\b \b\\\b \b|\b \b/\b \b-\b \b\\\b \b|\b \b/\b \b-\b \b\\\b \b|\b \b/\b \b-\b \b\\\b \b|\b \b/\b \b-\b \b\\\b \b|\b \b/\b \b-\b \b\\\b \b|\b \b/\b \b-\b \b\\\b \b|\b \b/\b \b-\b \b\\\b \b|\b \b/\b \b-\b \b\\\b \b|\b \b/\b \b-\b \b\\\b \b|\b \b/\b \b-\b \b\\\b \b|\b \b/\b \b-\b \b\\\b \b|\b \b/\b \b-\b \b\\\b \b|\b \b/\b \b-\b \b\\\b \b|\b \b/\b \b-\b \b\\\b \b|\b \b/\b \b-\b \b\\\b \b|\b \b/\b \b-\b \b\\\b \b|\b \b/\b \b-\b \b\\\b \b|\b \b/\b \b-\b \bdone\r\n",
      "\u001b[?25h  Created wheel for spacy: filename=spacy-2.0.12-cp36-cp36m-linux_x86_64.whl size=29263746 sha256=ef04c0a89689afd06de8a04907ad40f1a45dbf219e199756a7d80c0a97cb69d4\r\n",
      "  Stored in directory: /root/.cache/pip/wheels/eb/1f/a2/9d896eaa415b7338ebb9374faa3a09f27ea54188dbbc772e53\r\n",
      "  Building wheel for thinc (setup.py) ... \u001b[?25l-\b \b\\\b \b|\b \b/\b \b-\b \b\\\b \b|\b \b/\b \b-\b \b\\\b \b|\b \b/\b \b-\b \b\\\b \b|\b \b/\b \b-\b \b\\\b \b|\b \b/\b \b-\b \b\\\b \b|\b \b/\b \b-\b \b\\\b \b|\b \bdone\r\n",
      "\u001b[?25h  Created wheel for thinc: filename=thinc-6.10.3-cp36-cp36m-linux_x86_64.whl size=3999254 sha256=cccd468120acac3b25e7f62559e4ec020feba3f6b8e8c353fb91ccaf68db7183\r\n",
      "  Stored in directory: /root/.cache/pip/wheels/2f/0e/27/50261aec8038657ea83260c8e327ef255f45cdb5f23adad847\r\n",
      "  Building wheel for dill (setup.py) ... \u001b[?25l-\b \b\\\b \bdone\r\n",
      "\u001b[?25h  Created wheel for dill: filename=dill-0.2.9-py3-none-any.whl size=77404 sha256=b7bc56dfb9092934d8adfae39a55e1082550d8844541e10cb72435baff995fbd\r\n",
      "  Stored in directory: /root/.cache/pip/wheels/4e/30/4a/4d1b230f4b976bab277383fefbde5ce464d25ef354321548d1\r\n",
      "  Building wheel for regex (setup.py) ... \u001b[?25l-\b \b\\\b \b|\b \b/\b \b-\b \b\\\b \b|\b \b/\b \bdone\r\n",
      "\u001b[?25h  Created wheel for regex: filename=regex-2017.4.5-cp36-cp36m-linux_x86_64.whl size=533332 sha256=00263431b24fb1e097564b050e820b82b3285bbda8d90f8e6f7b050c6a736009\r\n",
      "  Stored in directory: /root/.cache/pip/wheels/83/26/c0/24fc7b1c7616a7f9c6eadf53ffa43eff795d8d828ebd1d9a92\r\n",
      "  Building wheel for cytoolz (setup.py) ... \u001b[?25l-\b \b\\\b \b|\b \b/\b \b-\b \b\\\b \b|\b \b/\b \bdone\r\n",
      "\u001b[?25h  Created wheel for cytoolz: filename=cytoolz-0.9.0.1-cp36-cp36m-linux_x86_64.whl size=1296498 sha256=1ec41d34d11b612decfabc5e700950b80e60b6a8c5e49059126b6781da365136\r\n",
      "  Stored in directory: /root/.cache/pip/wheels/8d/5c/93/5e6eda50e5d667ce5a12bcd85ceb46879d017f9bf731ecefae\r\n",
      "  Building wheel for wrapt (setup.py) ... \u001b[?25l-\b \b\\\b \bdone\r\n",
      "\u001b[?25h  Created wheel for wrapt: filename=wrapt-1.10.11-cp36-cp36m-linux_x86_64.whl size=67381 sha256=09834b07d24ef600b0e51c31e438f6e5a9c073b076920c6918b05a065e7f4c31\r\n",
      "  Stored in directory: /root/.cache/pip/wheels/4c/97/d2/6a717447f5f7aff7a2bf5528825b930a56466d312e8a011fba\r\n",
      "Successfully built spacy thinc dill regex cytoolz wrapt\r\n",
      "\u001b[31mERROR: tensorflow 2.1.0 has requirement wrapt>=1.11.1, but you'll have wrapt 1.10.11 which is incompatible.\u001b[0m\r\n",
      "\u001b[31mERROR: pathos 0.2.5 has requirement dill>=0.3.1, but you'll have dill 0.2.9 which is incompatible.\u001b[0m\r\n",
      "\u001b[31mERROR: multiprocess 0.70.9 has requirement dill>=0.3.1, but you'll have dill 0.2.9 which is incompatible.\u001b[0m\r\n",
      "\u001b[31mERROR: fastai 1.0.60 has requirement spacy>=2.0.18, but you'll have spacy 2.0.12 which is incompatible.\u001b[0m\r\n",
      "\u001b[31mERROR: en-core-web-sm 2.2.5 has requirement spacy>=2.2.2, but you'll have spacy 2.0.12 which is incompatible.\u001b[0m\r\n",
      "\u001b[31mERROR: en-core-web-lg 2.2.5 has requirement spacy>=2.2.2, but you'll have spacy 2.0.12 which is incompatible.\u001b[0m\r\n",
      "\u001b[31mERROR: astroid 2.3.3 has requirement wrapt==1.11.*, but you'll have wrapt 1.10.11 which is incompatible.\u001b[0m\r\n",
      "\u001b[31mERROR: allennlp 0.9.0 has requirement spacy<2.2,>=2.1.0, but you'll have spacy 2.0.12 which is incompatible.\u001b[0m\r\n",
      "Installing collected packages: murmurhash, cymem, preshed, cytoolz, wrapt, dill, thinc, ujson, regex, spacy\r\n",
      "  Attempting uninstall: murmurhash\r\n",
      "    Found existing installation: murmurhash 1.0.2\r\n",
      "    Uninstalling murmurhash-1.0.2:\r\n",
      "      Successfully uninstalled murmurhash-1.0.2\r\n",
      "  Attempting uninstall: cymem\r\n",
      "    Found existing installation: cymem 2.0.3\r\n",
      "    Uninstalling cymem-2.0.3:\r\n",
      "      Successfully uninstalled cymem-2.0.3\r\n",
      "  Attempting uninstall: preshed\r\n",
      "    Found existing installation: preshed 3.0.2\r\n",
      "    Uninstalling preshed-3.0.2:\r\n",
      "      Successfully uninstalled preshed-3.0.2\r\n",
      "  Attempting uninstall: cytoolz\r\n",
      "    Found existing installation: cytoolz 0.10.1\r\n",
      "    Uninstalling cytoolz-0.10.1:\r\n",
      "      Successfully uninstalled cytoolz-0.10.1\r\n",
      "  Attempting uninstall: wrapt\r\n",
      "    Found existing installation: wrapt 1.11.2\r\n",
      "    Uninstalling wrapt-1.11.2:\r\n",
      "      Successfully uninstalled wrapt-1.11.2\r\n",
      "  Attempting uninstall: dill\r\n",
      "    Found existing installation: dill 0.3.1.1\r\n",
      "    Uninstalling dill-0.3.1.1:\r\n",
      "      Successfully uninstalled dill-0.3.1.1\r\n",
      "  Attempting uninstall: thinc\r\n",
      "    Found existing installation: thinc 7.3.1\r\n",
      "    Uninstalling thinc-7.3.1:\r\n",
      "      Successfully uninstalled thinc-7.3.1\r\n",
      "  Attempting uninstall: regex\r\n",
      "    Found existing installation: regex 2020.2.20\r\n",
      "    Uninstalling regex-2020.2.20:\r\n",
      "      Successfully uninstalled regex-2020.2.20\r\n",
      "  Attempting uninstall: spacy\r\n",
      "    Found existing installation: spacy 2.2.3\r\n",
      "    Uninstalling spacy-2.2.3:\r\n",
      "      Successfully uninstalled spacy-2.2.3\r\n",
      "Successfully installed cymem-1.31.2 cytoolz-0.9.0.1 dill-0.2.9 murmurhash-0.28.0 preshed-1.0.1 regex-2017.4.5 spacy-2.0.12 thinc-6.10.3 ujson-2.0.2 wrapt-1.10.11\r\n"
     ]
    }
   ],
   "source": [
    "!pip install spacy==2.0.12\n"
   ]
  },
  {
   "cell_type": "markdown",
   "metadata": {},
   "source": [
    "**Import the library**\n",
    "<br><br>\n",
    "After installing the above packages, import the summarizer"
   ]
  },
  {
   "cell_type": "code",
   "execution_count": 4,
   "metadata": {},
   "outputs": [],
   "source": [
    "from summarizer import Summarizer,TransformerSummarizer"
   ]
  },
  {
   "cell_type": "code",
   "execution_count": 5,
   "metadata": {},
   "outputs": [],
   "source": [
    "body = '''\n",
    "        Eight people are dead following two shootings at shisha bars in the western German city of Hanau. At least five people were injured after gunmen opened fire at about 22:00 local time (21:00 GMT), police told the BBC. Police added that they are searching for the suspects, who fled the scene and are currently at large. The first shooting was at a bar in the city centre, while the second was in Hanau's Kesselstadt neighbourhood, according to local reports. Police officers and helicopters are patrolling both areas. An unknown number of gunmen killed three people at the first shisha bar, Midnight, before driving to the Arena Bar & Cafe and shooting dead another five victims, regional broadcaster Hessenschau reports. A dark-coloured vehicle was then seen leaving the scene.The motive for the attack is unclear, a police statement said. Can-Luca Frisenna, who works at a kiosk at the scene of one of the shootings said his father and brother were in the area when the attack took place. It's like being in a film, it's like a bad joke, that someone is playing a joke on us, he told Reuters.I can't grasp yet everything that has happened. My colleagues, all my colleagues, they are like my family - they can't understand it either. Hanau, in the state of Hessen, is about 25km (15 miles) east of Frankfurt. It comes four days after another shooting in Berlin, near a Turkish comedy show at the Tempodrom concert venue, which killed one person.\n",
    "        '''\n"
   ]
  },
  {
   "cell_type": "markdown",
   "metadata": {},
   "source": [
    "BERT Summarizer"
   ]
  },
  {
   "cell_type": "code",
   "execution_count": 6,
   "metadata": {
    "_cell_guid": "79c7e3d0-c299-4dcb-8224-4455121ee9b0",
    "_uuid": "d629ff2d2480ee46fbb7e2d37f6b5fab8052498a"
   },
   "outputs": [
    {
     "name": "stderr",
     "output_type": "stream",
     "text": [
      "100%|██████████| 362/362 [00:00<00:00, 124894.14B/s]\n",
      "100%|██████████| 1344997306/1344997306 [00:33<00:00, 39972866.09B/s]\n",
      "100%|██████████| 231508/231508 [00:00<00:00, 5203250.13B/s]\n"
     ]
    },
    {
     "name": "stdout",
     "output_type": "stream",
     "text": [
      "Eight people are dead following two shootings at shisha bars in the western German city of Hanau. The first shooting was at a bar in the city centre, while the second was in Hanau's Kesselstadt neighbourhood, according to local reports. It comes four days after another shooting in Berlin, near a Turkish comedy show at the Tempodrom concert venue, which killed one person.\n"
     ]
    }
   ],
   "source": [
    "bert_model = Summarizer()\n",
    "bert_summary = ''.join(bert_model(body, min_length=60))\n",
    "print(bert_summary)\n"
   ]
  },
  {
   "cell_type": "markdown",
   "metadata": {},
   "source": [
    "**GPT2_model**"
   ]
  },
  {
   "cell_type": "code",
   "execution_count": 7,
   "metadata": {},
   "outputs": [
    {
     "name": "stderr",
     "output_type": "stream",
     "text": [
      "100%|██████████| 341/341 [00:00<00:00, 133010.11B/s]\n",
      "100%|██████████| 1520013706/1520013706 [00:40<00:00, 37085692.21B/s]\n",
      "100%|██████████| 1042301/1042301 [00:00<00:00, 12594790.22B/s]\n",
      "100%|██████████| 456318/456318 [00:00<00:00, 6604631.72B/s]\n"
     ]
    },
    {
     "name": "stdout",
     "output_type": "stream",
     "text": [
      "Eight people are dead following two shootings at shisha bars in the western German city of Hanau. The first shooting was at a bar in the city centre, while the second was in Hanau's Kesselstadt neighbourhood, according to local reports. It's like being in a film, it's like a bad joke, that someone is playing a joke on us, he told Reuters.\n"
     ]
    }
   ],
   "source": [
    "\n",
    "GPT2_model = TransformerSummarizer(transformer_type=\"GPT2\",transformer_model_key=\"gpt2-medium\")\n",
    "full = ''.join(GPT2_model(body, min_length=60))\n",
    "print(full)"
   ]
  },
  {
   "cell_type": "markdown",
   "metadata": {},
   "source": [
    "**XLNet**"
   ]
  },
  {
   "cell_type": "code",
   "execution_count": 8,
   "metadata": {},
   "outputs": [
    {
     "name": "stderr",
     "output_type": "stream",
     "text": [
      "100%|██████████| 690/690 [00:00<00:00, 309957.13B/s]\n",
      "100%|██████████| 467042463/467042463 [00:12<00:00, 36678214.40B/s]\n",
      "100%|██████████| 798011/798011 [00:00<00:00, 11096232.07B/s]\n"
     ]
    },
    {
     "name": "stdout",
     "output_type": "stream",
     "text": [
      "Eight people are dead following two shootings at shisha bars in the western German city of Hanau. It's like being in a film, it's like a bad joke, that someone is playing a joke on us, he told Reuters.\n"
     ]
    }
   ],
   "source": [
    "model = TransformerSummarizer(transformer_type=\"XLNet\",transformer_model_key=\"xlnet-base-cased\")\n",
    "full = ''.join(model(body, min_length=60))\n",
    "print(full)"
   ]
  },
  {
   "cell_type": "code",
   "execution_count": null,
   "metadata": {},
   "outputs": [],
   "source": []
  }
 ],
 "metadata": {
  "kernelspec": {
   "display_name": "Python 3",
   "language": "python",
   "name": "python3"
  },
  "language_info": {
   "codemirror_mode": {
    "name": "ipython",
    "version": 3
   },
   "file_extension": ".py",
   "mimetype": "text/x-python",
   "name": "python",
   "nbconvert_exporter": "python",
   "pygments_lexer": "ipython3",
   "version": "3.6.6"
  }
 },
 "nbformat": 4,
 "nbformat_minor": 4
}
